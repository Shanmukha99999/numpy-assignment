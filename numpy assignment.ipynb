{
 "cells": [
  {
   "cell_type": "raw",
   "metadata": {},
   "source": [
    "1. Given are 2 similar dimensional numpy arrays, how to get a numpy array output\n",
    "in which every element is an element-wise sum of the 2 numpy arrays?"
   ]
  },
  {
   "cell_type": "code",
   "execution_count": 2,
   "metadata": {},
   "outputs": [
    {
     "name": "stdout",
     "output_type": "stream",
     "text": [
      "[7 9 8 8]\n"
     ]
    }
   ],
   "source": [
    "import numpy as np\n",
    "a=np.array([1,2,3,4])\n",
    "b=np.array([6,7,5,4])\n",
    "print(a+b)"
   ]
  },
  {
   "cell_type": "raw",
   "metadata": {},
   "source": [
    "2. Given a numpy array (matrix), how to get a numpy array output which is equal to\n",
    "the original matrix multiplied by a scalar?"
   ]
  },
  {
   "cell_type": "code",
   "execution_count": 5,
   "metadata": {},
   "outputs": [
    {
     "data": {
      "text/plain": [
       "array([[ 4,  8, 12],\n",
       "       [16, 20, 24],\n",
       "       [32, 36, 28]])"
      ]
     },
     "execution_count": 5,
     "metadata": {},
     "output_type": "execute_result"
    }
   ],
   "source": [
    "m=np.array([[1,2,3],[4,5,6],[8,9,7]])\n",
    "4*m"
   ]
  },
  {
   "cell_type": "raw",
   "metadata": {},
   "source": [
    "3. Create an identity matrix of dimension 4-by-4."
   ]
  },
  {
   "cell_type": "code",
   "execution_count": 6,
   "metadata": {},
   "outputs": [
    {
     "data": {
      "text/plain": [
       "array([[1., 0., 0., 0.],\n",
       "       [0., 1., 0., 0.],\n",
       "       [0., 0., 1., 0.],\n",
       "       [0., 0., 0., 1.]])"
      ]
     },
     "execution_count": 6,
     "metadata": {},
     "output_type": "execute_result"
    }
   ],
   "source": [
    "np.eye(4)"
   ]
  },
  {
   "cell_type": "raw",
   "metadata": {},
   "source": [
    "4. Convert a 1-D array to a 3-D array"
   ]
  },
  {
   "cell_type": "code",
   "execution_count": 7,
   "metadata": {},
   "outputs": [
    {
     "data": {
      "text/plain": [
       "array([[[1, 2],\n",
       "        [3, 4]],\n",
       "\n",
       "       [[5, 6],\n",
       "        [7, 8]]])"
      ]
     },
     "execution_count": 7,
     "metadata": {},
     "output_type": "execute_result"
    }
   ],
   "source": [
    "np.array([1,2,3,4,5,6,7,8]).reshape(2,2,2)"
   ]
  },
  {
   "cell_type": "raw",
   "metadata": {},
   "source": [
    "5. Convert a binary numpy array (containing only 0s and 1s) to a boolean numpy\n",
    "array"
   ]
  },
  {
   "cell_type": "code",
   "execution_count": 16,
   "metadata": {},
   "outputs": [
    {
     "data": {
      "text/plain": [
       "array([[ True, False,  True, False],\n",
       "       [False,  True,  True, False]])"
      ]
     },
     "execution_count": 16,
     "metadata": {},
     "output_type": "execute_result"
    }
   ],
   "source": [
    "a=np.array([[1,0,1,0],[0,1,1,0]],dtype='bool')\n",
    "a"
   ]
  },
  {
   "cell_type": "raw",
   "metadata": {},
   "source": [
    "6. Convert all the elements of a numpy array from float to integer datatype"
   ]
  },
  {
   "cell_type": "code",
   "execution_count": 29,
   "metadata": {},
   "outputs": [
    {
     "name": "stdout",
     "output_type": "stream",
     "text": [
      "float64\n",
      "int32\n"
     ]
    }
   ],
   "source": [
    "a=np.array([[1,0,5,0],[79,1,1,0]],dtype='float')\n",
    "print(a.dtype)\n",
    "a=a.astype('int32')\n",
    "print(a.dtype)"
   ]
  },
  {
   "cell_type": "raw",
   "metadata": {},
   "source": [
    "7. Stack 2 numpy arrays horizontally i.e., 2 arrays having the same 1st dimension\n",
    "(number of rows in 2D arrays)\n"
   ]
  },
  {
   "cell_type": "code",
   "execution_count": 30,
   "metadata": {},
   "outputs": [
    {
     "data": {
      "text/plain": [
       "array([[1, 2, 3, 4],\n",
       "       [5, 6, 7, 8]])"
      ]
     },
     "execution_count": 30,
     "metadata": {},
     "output_type": "execute_result"
    }
   ],
   "source": [
    "a=np.array([1,2,3,4])\n",
    "b=np.array([5,6,7,8])\n",
    "np.array((a,b))"
   ]
  },
  {
   "cell_type": "raw",
   "metadata": {},
   "source": [
    "8. Output a sequence of equally gapped 5 numbers in the range 0 to 100 (both\n",
    "inclusive)"
   ]
  },
  {
   "cell_type": "code",
   "execution_count": 31,
   "metadata": {},
   "outputs": [
    {
     "data": {
      "text/plain": [
       "array([  0,   5,  10,  15,  20,  25,  30,  35,  40,  45,  50,  55,  60,\n",
       "        65,  70,  75,  80,  85,  90,  95, 100])"
      ]
     },
     "execution_count": 31,
     "metadata": {},
     "output_type": "execute_result"
    }
   ],
   "source": [
    "np.arange(0,101,5)"
   ]
  },
  {
   "cell_type": "raw",
   "metadata": {},
   "source": [
    "9. Output a matrix (numpy array) of dimension 2-by-3 with each and every value\n",
    "equal to 5\n"
   ]
  },
  {
   "cell_type": "code",
   "execution_count": 35,
   "metadata": {},
   "outputs": [
    {
     "data": {
      "text/plain": [
       "array([[5, 5, 5],\n",
       "       [5, 5, 5]])"
      ]
     },
     "execution_count": 35,
     "metadata": {},
     "output_type": "execute_result"
    }
   ],
   "source": [
    "a=5*np.ones(3,dtype='int32')\n",
    "np.array((a,a))"
   ]
  },
  {
   "cell_type": "raw",
   "metadata": {},
   "source": [
    "10.Given 2 numpy arrays as matrices, output the result of multiplying the 2 matrices\n",
    "(as a numpy array)"
   ]
  },
  {
   "cell_type": "code",
   "execution_count": 48,
   "metadata": {},
   "outputs": [
    {
     "name": "stdout",
     "output_type": "stream",
     "text": [
      "[[1 2 3]\n",
      " [4 5 6]\n",
      " [7 8 9]]\n"
     ]
    },
    {
     "data": {
      "text/plain": [
       "array([[ 1,  4,  9],\n",
       "       [16, 25, 36],\n",
       "       [49, 64, 81]])"
      ]
     },
     "execution_count": 48,
     "metadata": {},
     "output_type": "execute_result"
    }
   ],
   "source": [
    "a=np.array([1,2,3,4,5,6,7,8,9]).reshape(3,3)\n",
    "print(a)\n",
    "a*a"
   ]
  },
  {
   "cell_type": "raw",
   "metadata": {},
   "source": [
    "11. Output the array element indexes such that the array elements appear in the\n",
    "ascending order"
   ]
  },
  {
   "cell_type": "code",
   "execution_count": 46,
   "metadata": {},
   "outputs": [
    {
     "name": "stdout",
     "output_type": "stream",
     "text": [
      "[4 6 1 8 3 9]\n"
     ]
    },
    {
     "data": {
      "text/plain": [
       "array([1, 3, 4, 6, 8, 9])"
      ]
     },
     "execution_count": 46,
     "metadata": {},
     "output_type": "execute_result"
    }
   ],
   "source": [
    "a=np.array([4,6,1,8,3,9],dtype='int32')\n",
    "print(a)\n",
    "a.sort()\n",
    "a"
   ]
  },
  {
   "cell_type": "raw",
   "metadata": {},
   "source": [
    "12.Multiply a 5x3 matrix by a 3x2 matrix (real matrix product)"
   ]
  },
  {
   "cell_type": "code",
   "execution_count": 3,
   "metadata": {},
   "outputs": [
    {
     "name": "stdout",
     "output_type": "stream",
     "text": [
      "[[ 1  2  3]\n",
      " [ 4  5  6]\n",
      " [ 7  8  9]\n",
      " [10  3  4]\n",
      " [ 5  8  5]]\n",
      "\n",
      "[[1 2]\n",
      " [3 4]\n",
      " [5 6]]\n"
     ]
    },
    {
     "data": {
      "text/plain": [
       "array([[ 22,  28],\n",
       "       [ 49,  64],\n",
       "       [ 76, 100],\n",
       "       [ 39,  56],\n",
       "       [ 54,  72]])"
      ]
     },
     "execution_count": 3,
     "metadata": {},
     "output_type": "execute_result"
    }
   ],
   "source": [
    "a=np.array([1,2,3,4,5,6,7,8,9,10,3,4,5,8,5],dtype='int32').reshape(5,3)\n",
    "b=np.array([1,2,3,4,5,6],dtype='int32').reshape(3,2)\n",
    "print(a)\n",
    "print()\n",
    "print(b)\n",
    "np.dot(a,b)"
   ]
  },
  {
   "cell_type": "code",
   "execution_count": 5,
   "metadata": {},
   "outputs": [
    {
     "ename": "AttributeError",
     "evalue": "'numpy.ndarray' object has no attribute 'index'",
     "output_type": "error",
     "traceback": [
      "\u001b[1;31m---------------------------------------------------------------------------\u001b[0m",
      "\u001b[1;31mAttributeError\u001b[0m                            Traceback (most recent call last)",
      "\u001b[1;32m<ipython-input-5-d81d2b00d317>\u001b[0m in \u001b[0;36m<module>\u001b[1;34m\u001b[0m\n\u001b[1;32m----> 1\u001b[1;33m \u001b[0ma\u001b[0m\u001b[1;33m.\u001b[0m\u001b[0mindex\u001b[0m\u001b[1;33m(\u001b[0m\u001b[1;36m5\u001b[0m\u001b[1;33m)\u001b[0m\u001b[1;33m\u001b[0m\u001b[1;33m\u001b[0m\u001b[0m\n\u001b[0m",
      "\u001b[1;31mAttributeError\u001b[0m: 'numpy.ndarray' object has no attribute 'index'"
     ]
    }
   ],
   "source": [
    "a.index(5)"
   ]
  },
  {
   "cell_type": "code",
   "execution_count": 7,
   "metadata": {},
   "outputs": [],
   "source": [
    "a=np.random.randint(10,size=(3,5,6,4,3))"
   ]
  },
  {
   "cell_type": "code",
   "execution_count": 8,
   "metadata": {},
   "outputs": [
    {
     "data": {
      "text/plain": [
       "array([[[[[5, 7, 8],\n",
       "          [3, 3, 1],\n",
       "          [2, 3, 0],\n",
       "          [3, 0, 6]],\n",
       "\n",
       "         [[2, 2, 9],\n",
       "          [2, 1, 2],\n",
       "          [1, 3, 0],\n",
       "          [7, 9, 5]],\n",
       "\n",
       "         [[2, 9, 8],\n",
       "          [0, 7, 6],\n",
       "          [7, 4, 1],\n",
       "          [5, 6, 8]],\n",
       "\n",
       "         [[8, 8, 8],\n",
       "          [9, 8, 1],\n",
       "          [2, 8, 9],\n",
       "          [2, 4, 4]],\n",
       "\n",
       "         [[4, 2, 2],\n",
       "          [3, 9, 9],\n",
       "          [9, 8, 8],\n",
       "          [9, 8, 7]],\n",
       "\n",
       "         [[9, 4, 7],\n",
       "          [3, 6, 4],\n",
       "          [1, 9, 7],\n",
       "          [3, 9, 7]]],\n",
       "\n",
       "\n",
       "        [[[4, 4, 2],\n",
       "          [0, 1, 7],\n",
       "          [8, 3, 3],\n",
       "          [7, 9, 1]],\n",
       "\n",
       "         [[6, 8, 7],\n",
       "          [9, 8, 8],\n",
       "          [3, 9, 5],\n",
       "          [2, 9, 8]],\n",
       "\n",
       "         [[9, 5, 4],\n",
       "          [3, 2, 8],\n",
       "          [4, 5, 9],\n",
       "          [2, 2, 9]],\n",
       "\n",
       "         [[5, 3, 3],\n",
       "          [2, 4, 7],\n",
       "          [8, 0, 6],\n",
       "          [2, 9, 3]],\n",
       "\n",
       "         [[1, 1, 8],\n",
       "          [2, 1, 8],\n",
       "          [6, 3, 0],\n",
       "          [3, 8, 5]],\n",
       "\n",
       "         [[3, 5, 7],\n",
       "          [3, 7, 8],\n",
       "          [1, 3, 0],\n",
       "          [0, 7, 1]]],\n",
       "\n",
       "\n",
       "        [[[2, 2, 5],\n",
       "          [6, 8, 1],\n",
       "          [9, 7, 3],\n",
       "          [4, 3, 2]],\n",
       "\n",
       "         [[8, 9, 3],\n",
       "          [2, 9, 5],\n",
       "          [3, 5, 1],\n",
       "          [9, 7, 3]],\n",
       "\n",
       "         [[7, 6, 5],\n",
       "          [2, 8, 3],\n",
       "          [3, 3, 7],\n",
       "          [4, 9, 6]],\n",
       "\n",
       "         [[2, 6, 8],\n",
       "          [7, 5, 8],\n",
       "          [8, 0, 8],\n",
       "          [4, 9, 3]],\n",
       "\n",
       "         [[3, 8, 4],\n",
       "          [4, 0, 5],\n",
       "          [3, 8, 3],\n",
       "          [0, 4, 0]],\n",
       "\n",
       "         [[9, 2, 6],\n",
       "          [9, 0, 6],\n",
       "          [0, 9, 6],\n",
       "          [3, 4, 0]]],\n",
       "\n",
       "\n",
       "        [[[3, 7, 9],\n",
       "          [4, 6, 7],\n",
       "          [2, 8, 8],\n",
       "          [6, 1, 4]],\n",
       "\n",
       "         [[8, 5, 0],\n",
       "          [2, 1, 3],\n",
       "          [5, 0, 7],\n",
       "          [3, 6, 1]],\n",
       "\n",
       "         [[7, 9, 0],\n",
       "          [6, 5, 6],\n",
       "          [6, 3, 1],\n",
       "          [3, 3, 0]],\n",
       "\n",
       "         [[8, 0, 7],\n",
       "          [2, 6, 5],\n",
       "          [7, 5, 0],\n",
       "          [0, 5, 7]],\n",
       "\n",
       "         [[0, 4, 3],\n",
       "          [2, 0, 8],\n",
       "          [8, 4, 9],\n",
       "          [1, 1, 2]],\n",
       "\n",
       "         [[5, 3, 4],\n",
       "          [9, 7, 8],\n",
       "          [7, 8, 9],\n",
       "          [7, 4, 6]]],\n",
       "\n",
       "\n",
       "        [[[8, 6, 9],\n",
       "          [4, 5, 7],\n",
       "          [0, 1, 5],\n",
       "          [9, 0, 3]],\n",
       "\n",
       "         [[0, 6, 2],\n",
       "          [1, 5, 2],\n",
       "          [3, 2, 8],\n",
       "          [4, 8, 6]],\n",
       "\n",
       "         [[6, 5, 8],\n",
       "          [7, 1, 1],\n",
       "          [6, 6, 5],\n",
       "          [7, 2, 8]],\n",
       "\n",
       "         [[0, 6, 9],\n",
       "          [3, 7, 1],\n",
       "          [4, 4, 2],\n",
       "          [5, 5, 3]],\n",
       "\n",
       "         [[4, 0, 0],\n",
       "          [0, 5, 5],\n",
       "          [3, 7, 0],\n",
       "          [4, 7, 5]],\n",
       "\n",
       "         [[8, 3, 0],\n",
       "          [0, 5, 4],\n",
       "          [1, 5, 0],\n",
       "          [5, 2, 4]]]],\n",
       "\n",
       "\n",
       "\n",
       "       [[[[4, 0, 5],\n",
       "          [7, 6, 2],\n",
       "          [6, 4, 9],\n",
       "          [6, 8, 5]],\n",
       "\n",
       "         [[6, 4, 6],\n",
       "          [4, 4, 7],\n",
       "          [2, 4, 6],\n",
       "          [5, 4, 7]],\n",
       "\n",
       "         [[5, 2, 7],\n",
       "          [8, 9, 2],\n",
       "          [0, 6, 4],\n",
       "          [0, 4, 3]],\n",
       "\n",
       "         [[5, 0, 6],\n",
       "          [5, 8, 0],\n",
       "          [9, 5, 7],\n",
       "          [7, 3, 9]],\n",
       "\n",
       "         [[0, 9, 8],\n",
       "          [5, 7, 0],\n",
       "          [8, 9, 4],\n",
       "          [6, 0, 3]],\n",
       "\n",
       "         [[7, 8, 0],\n",
       "          [6, 7, 5],\n",
       "          [4, 1, 2],\n",
       "          [6, 2, 1]]],\n",
       "\n",
       "\n",
       "        [[[8, 2, 1],\n",
       "          [4, 9, 7],\n",
       "          [9, 8, 5],\n",
       "          [5, 8, 5]],\n",
       "\n",
       "         [[8, 4, 9],\n",
       "          [9, 8, 2],\n",
       "          [2, 2, 2],\n",
       "          [7, 5, 6]],\n",
       "\n",
       "         [[7, 7, 7],\n",
       "          [3, 2, 6],\n",
       "          [6, 5, 8],\n",
       "          [7, 7, 3]],\n",
       "\n",
       "         [[1, 3, 5],\n",
       "          [7, 1, 3],\n",
       "          [2, 6, 2],\n",
       "          [2, 6, 1]],\n",
       "\n",
       "         [[7, 1, 4],\n",
       "          [8, 5, 7],\n",
       "          [1, 3, 6],\n",
       "          [1, 5, 3]],\n",
       "\n",
       "         [[0, 6, 6],\n",
       "          [0, 5, 2],\n",
       "          [8, 9, 7],\n",
       "          [0, 4, 4]]],\n",
       "\n",
       "\n",
       "        [[[2, 1, 5],\n",
       "          [6, 6, 2],\n",
       "          [0, 9, 3],\n",
       "          [5, 5, 5]],\n",
       "\n",
       "         [[8, 7, 6],\n",
       "          [9, 6, 6],\n",
       "          [9, 2, 0],\n",
       "          [9, 0, 8]],\n",
       "\n",
       "         [[5, 2, 9],\n",
       "          [8, 8, 1],\n",
       "          [0, 0, 9],\n",
       "          [0, 8, 3]],\n",
       "\n",
       "         [[7, 1, 6],\n",
       "          [1, 8, 0],\n",
       "          [4, 3, 6],\n",
       "          [4, 9, 4]],\n",
       "\n",
       "         [[6, 7, 1],\n",
       "          [7, 3, 6],\n",
       "          [8, 1, 4],\n",
       "          [9, 0, 2]],\n",
       "\n",
       "         [[3, 8, 0],\n",
       "          [5, 1, 4],\n",
       "          [6, 5, 1],\n",
       "          [9, 3, 2]]],\n",
       "\n",
       "\n",
       "        [[[6, 2, 0],\n",
       "          [3, 8, 7],\n",
       "          [9, 3, 6],\n",
       "          [3, 6, 1]],\n",
       "\n",
       "         [[1, 3, 3],\n",
       "          [3, 9, 1],\n",
       "          [7, 0, 1],\n",
       "          [5, 0, 4]],\n",
       "\n",
       "         [[5, 6, 4],\n",
       "          [1, 2, 9],\n",
       "          [6, 5, 0],\n",
       "          [2, 2, 3]],\n",
       "\n",
       "         [[7, 1, 8],\n",
       "          [6, 8, 3],\n",
       "          [0, 1, 2],\n",
       "          [0, 9, 6]],\n",
       "\n",
       "         [[3, 6, 9],\n",
       "          [5, 8, 6],\n",
       "          [5, 4, 3],\n",
       "          [1, 9, 2]],\n",
       "\n",
       "         [[4, 2, 0],\n",
       "          [8, 1, 7],\n",
       "          [5, 8, 9],\n",
       "          [2, 3, 2]]],\n",
       "\n",
       "\n",
       "        [[[4, 4, 2],\n",
       "          [7, 4, 0],\n",
       "          [5, 0, 2],\n",
       "          [9, 3, 7]],\n",
       "\n",
       "         [[0, 2, 4],\n",
       "          [0, 4, 7],\n",
       "          [5, 1, 9],\n",
       "          [8, 3, 8]],\n",
       "\n",
       "         [[6, 9, 1],\n",
       "          [2, 1, 7],\n",
       "          [2, 2, 2],\n",
       "          [9, 3, 6]],\n",
       "\n",
       "         [[5, 5, 4],\n",
       "          [3, 3, 1],\n",
       "          [2, 5, 0],\n",
       "          [3, 9, 6]],\n",
       "\n",
       "         [[8, 3, 4],\n",
       "          [8, 5, 3],\n",
       "          [3, 0, 8],\n",
       "          [5, 4, 9]],\n",
       "\n",
       "         [[2, 0, 6],\n",
       "          [2, 3, 4],\n",
       "          [9, 3, 0],\n",
       "          [4, 8, 5]]]],\n",
       "\n",
       "\n",
       "\n",
       "       [[[[0, 9, 3],\n",
       "          [7, 5, 6],\n",
       "          [8, 0, 7],\n",
       "          [4, 5, 8]],\n",
       "\n",
       "         [[2, 8, 1],\n",
       "          [2, 4, 3],\n",
       "          [8, 7, 9],\n",
       "          [7, 4, 9]],\n",
       "\n",
       "         [[6, 3, 1],\n",
       "          [0, 8, 1],\n",
       "          [6, 9, 6],\n",
       "          [7, 3, 1]],\n",
       "\n",
       "         [[1, 7, 1],\n",
       "          [6, 5, 2],\n",
       "          [2, 2, 2],\n",
       "          [8, 6, 2]],\n",
       "\n",
       "         [[6, 3, 0],\n",
       "          [0, 5, 4],\n",
       "          [4, 7, 1],\n",
       "          [2, 5, 3]],\n",
       "\n",
       "         [[3, 8, 4],\n",
       "          [5, 2, 1],\n",
       "          [5, 2, 0],\n",
       "          [8, 7, 6]]],\n",
       "\n",
       "\n",
       "        [[[3, 4, 9],\n",
       "          [0, 7, 2],\n",
       "          [5, 7, 3],\n",
       "          [3, 5, 0]],\n",
       "\n",
       "         [[7, 8, 1],\n",
       "          [5, 5, 2],\n",
       "          [6, 9, 2],\n",
       "          [0, 1, 4]],\n",
       "\n",
       "         [[2, 4, 1],\n",
       "          [2, 5, 4],\n",
       "          [8, 9, 9],\n",
       "          [4, 8, 3]],\n",
       "\n",
       "         [[2, 8, 5],\n",
       "          [8, 4, 3],\n",
       "          [2, 7, 0],\n",
       "          [4, 5, 9]],\n",
       "\n",
       "         [[3, 4, 0],\n",
       "          [7, 4, 4],\n",
       "          [7, 2, 5],\n",
       "          [3, 6, 0]],\n",
       "\n",
       "         [[0, 3, 4],\n",
       "          [4, 7, 0],\n",
       "          [7, 5, 9],\n",
       "          [9, 5, 0]]],\n",
       "\n",
       "\n",
       "        [[[5, 7, 6],\n",
       "          [9, 1, 4],\n",
       "          [3, 0, 8],\n",
       "          [2, 3, 7]],\n",
       "\n",
       "         [[8, 3, 8],\n",
       "          [6, 4, 8],\n",
       "          [9, 7, 5],\n",
       "          [0, 0, 3]],\n",
       "\n",
       "         [[0, 6, 8],\n",
       "          [9, 6, 2],\n",
       "          [8, 3, 1],\n",
       "          [3, 4, 0]],\n",
       "\n",
       "         [[1, 5, 7],\n",
       "          [3, 9, 8],\n",
       "          [4, 5, 0],\n",
       "          [0, 4, 0]],\n",
       "\n",
       "         [[6, 9, 3],\n",
       "          [0, 7, 7],\n",
       "          [5, 9, 9],\n",
       "          [7, 4, 9]],\n",
       "\n",
       "         [[0, 7, 8],\n",
       "          [5, 8, 5],\n",
       "          [1, 1, 0],\n",
       "          [5, 7, 5]]],\n",
       "\n",
       "\n",
       "        [[[5, 3, 9],\n",
       "          [3, 9, 6],\n",
       "          [4, 6, 1],\n",
       "          [8, 1, 1]],\n",
       "\n",
       "         [[3, 6, 6],\n",
       "          [8, 7, 8],\n",
       "          [4, 7, 3],\n",
       "          [5, 2, 1]],\n",
       "\n",
       "         [[2, 9, 9],\n",
       "          [3, 6, 3],\n",
       "          [5, 4, 5],\n",
       "          [1, 1, 5]],\n",
       "\n",
       "         [[9, 7, 6],\n",
       "          [4, 3, 3],\n",
       "          [8, 7, 1],\n",
       "          [9, 9, 2]],\n",
       "\n",
       "         [[9, 9, 4],\n",
       "          [8, 0, 8],\n",
       "          [1, 9, 5],\n",
       "          [3, 1, 1]],\n",
       "\n",
       "         [[4, 0, 0],\n",
       "          [2, 2, 0],\n",
       "          [4, 4, 4],\n",
       "          [6, 4, 0]]],\n",
       "\n",
       "\n",
       "        [[[8, 2, 3],\n",
       "          [1, 5, 2],\n",
       "          [3, 3, 6],\n",
       "          [4, 7, 0]],\n",
       "\n",
       "         [[3, 4, 3],\n",
       "          [2, 9, 5],\n",
       "          [3, 8, 2],\n",
       "          [3, 1, 7]],\n",
       "\n",
       "         [[5, 7, 4],\n",
       "          [6, 5, 1],\n",
       "          [3, 6, 4],\n",
       "          [3, 0, 4]],\n",
       "\n",
       "         [[0, 4, 9],\n",
       "          [1, 6, 0],\n",
       "          [5, 9, 5],\n",
       "          [5, 2, 6]],\n",
       "\n",
       "         [[3, 5, 5],\n",
       "          [5, 3, 3],\n",
       "          [5, 0, 2],\n",
       "          [6, 4, 6]],\n",
       "\n",
       "         [[2, 5, 3],\n",
       "          [9, 6, 3],\n",
       "          [9, 3, 7],\n",
       "          [8, 5, 8]]]]])"
      ]
     },
     "execution_count": 8,
     "metadata": {},
     "output_type": "execute_result"
    }
   ],
   "source": [
    "a"
   ]
  },
  {
   "cell_type": "code",
   "execution_count": 16,
   "metadata": {},
   "outputs": [
    {
     "data": {
      "text/plain": [
       "array([7, 8])"
      ]
     },
     "execution_count": 16,
     "metadata": {},
     "output_type": "execute_result"
    }
   ],
   "source": [
    "a[-1,-1,-1,-2:,-1]"
   ]
  },
  {
   "cell_type": "markdown",
   "metadata": {},
   "source": [
    "# Assignment 2"
   ]
  },
  {
   "cell_type": "markdown",
   "metadata": {},
   "source": [
    "1. Write a NumPy program to convert a list of numeric values into a one-dimensional NumPy array. "
   ]
  },
  {
   "cell_type": "code",
   "execution_count": 1,
   "metadata": {},
   "outputs": [
    {
     "data": {
      "text/plain": [
       "array([1, 2, 3, 4])"
      ]
     },
     "execution_count": 1,
     "metadata": {},
     "output_type": "execute_result"
    }
   ],
   "source": [
    "import numpy as np\n",
    "a=[1,2,3,4]\n",
    "np.array(a)"
   ]
  },
  {
   "cell_type": "markdown",
   "metadata": {},
   "source": [
    "2. Write a NumPy program to create a 4x4 matrix with values ranging from 7 to 15. "
   ]
  },
  {
   "cell_type": "code",
   "execution_count": 8,
   "metadata": {},
   "outputs": [
    {
     "data": {
      "text/plain": [
       "array([[[[ 9, 15,  9],\n",
       "         [11, 11, 14]],\n",
       "\n",
       "        [[15, 14, 11],\n",
       "         [12, 11,  7]]],\n",
       "\n",
       "\n",
       "       [[[ 7, 15,  8],\n",
       "         [14, 13, 12]],\n",
       "\n",
       "        [[10,  9, 11],\n",
       "         [10, 15, 11]]],\n",
       "\n",
       "\n",
       "       [[[10, 15, 11],\n",
       "         [14,  8, 12]],\n",
       "\n",
       "        [[ 9,  9, 14],\n",
       "         [13, 12, 11]]]])"
      ]
     },
     "execution_count": 8,
     "metadata": {},
     "output_type": "execute_result"
    }
   ],
   "source": [
    "np.random.randint(low=7,high=16,size=(3,2,2,3))"
   ]
  },
  {
   "cell_type": "markdown",
   "metadata": {},
   "source": [
    "3. Write a NumPy program to create a null vector of size 10 and update the sixth value to 11."
   ]
  },
  {
   "cell_type": "code",
   "execution_count": 13,
   "metadata": {},
   "outputs": [
    {
     "data": {
      "text/plain": [
       "array([ 0,  0,  0,  0,  0, 11,  0,  0,  0,  0])"
      ]
     },
     "execution_count": 13,
     "metadata": {},
     "output_type": "execute_result"
    }
   ],
   "source": [
    "a=np.zeros(10,dtype='int32')\n",
    "a[5]=11\n",
    "a"
   ]
  },
  {
   "cell_type": "markdown",
   "metadata": {},
   "source": [
    "4. Write a NumPy program to reverse an array (first element becomes last)."
   ]
  },
  {
   "cell_type": "code",
   "execution_count": 18,
   "metadata": {},
   "outputs": [
    {
     "data": {
      "text/plain": [
       "array([6, 5, 4, 3, 2, 1])"
      ]
     },
     "execution_count": 18,
     "metadata": {},
     "output_type": "execute_result"
    }
   ],
   "source": [
    "a=[1,2,3,4,5,6]\n",
    "a=np.array(a)\n",
    "b=[]\n",
    "for i in range(len(a)-1,-1,-1):\n",
    "    b.append(a[i])\n",
    "np.array(b)"
   ]
  },
  {
   "cell_type": "markdown",
   "metadata": {},
   "source": [
    "5. Write a NumPy program to create a 2d array with 1 on the border and 0 inside"
   ]
  },
  {
   "cell_type": "code",
   "execution_count": 25,
   "metadata": {},
   "outputs": [
    {
     "data": {
      "text/plain": [
       "array([[1, 1, 1, 1, 1],\n",
       "       [1, 0, 0, 0, 1],\n",
       "       [1, 0, 0, 0, 1],\n",
       "       [1, 0, 0, 0, 1],\n",
       "       [1, 1, 1, 1, 1]])"
      ]
     },
     "execution_count": 25,
     "metadata": {},
     "output_type": "execute_result"
    }
   ],
   "source": [
    "a=np.zeros(9,dtype='int32')\n",
    "a=a.reshape(3,3)\n",
    "np.pad(a,1,constant_values=1)"
   ]
  },
  {
   "cell_type": "markdown",
   "metadata": {},
   "source": [
    "6. Write a NumPy program to create a 8x8 matrix and fill it with a checkerboard pattern."
   ]
  },
  {
   "cell_type": "code",
   "execution_count": 35,
   "metadata": {},
   "outputs": [
    {
     "data": {
      "text/plain": [
       "array([[0, 1, 0, 1, 0, 1, 0, 1],\n",
       "       [1, 0, 1, 0, 1, 0, 1, 0],\n",
       "       [0, 1, 0, 1, 0, 1, 0, 1],\n",
       "       [1, 0, 1, 0, 1, 0, 1, 0],\n",
       "       [0, 1, 0, 1, 0, 1, 0, 1],\n",
       "       [1, 0, 1, 0, 1, 0, 1, 0],\n",
       "       [0, 1, 0, 1, 0, 1, 0, 1],\n",
       "       [1, 0, 1, 0, 1, 0, 1, 0]])"
      ]
     },
     "execution_count": 35,
     "metadata": {},
     "output_type": "execute_result"
    }
   ],
   "source": [
    "np.array((([0,1]*4)+[1,0]*4)*4).reshape(8,8)"
   ]
  },
  {
   "cell_type": "markdown",
   "metadata": {},
   "source": [
    "7. Write a NumPy program to append values to the end of an array."
   ]
  },
  {
   "cell_type": "code",
   "execution_count": 38,
   "metadata": {},
   "outputs": [
    {
     "data": {
      "text/plain": [
       "array([1, 2, 3, 4, 5, 8])"
      ]
     },
     "execution_count": 38,
     "metadata": {},
     "output_type": "execute_result"
    }
   ],
   "source": [
    "a=8\n",
    "b=np.array([1,2,3,4,5])\n",
    "np.append(b,a)"
   ]
  },
  {
   "cell_type": "markdown",
   "metadata": {},
   "source": [
    "8. Write a NumPy program to convert the values of Centigrade degrees into Fahrenheit degrees and vice versa. Values are stored into a NumPy array."
   ]
  },
  {
   "cell_type": "code",
   "execution_count": 90,
   "metadata": {},
   "outputs": [
    {
     "data": {
      "text/plain": [
       "(array([[ 0,  1,  2,  3],\n",
       "        [ 4,  5,  6,  7],\n",
       "        [ 8,  9, 10, 11],\n",
       "        [12, 13, 14, 15]]),\n",
       " array([[273, 274, 275, 276],\n",
       "        [277, 278, 279, 280],\n",
       "        [281, 282, 283, 284],\n",
       "        [285, 286, 287, 288]]))"
      ]
     },
     "execution_count": 90,
     "metadata": {},
     "output_type": "execute_result"
    }
   ],
   "source": [
    "a=np.arange(0,16).reshape(4,4)\n",
    "a,a+273"
   ]
  },
  {
   "cell_type": "markdown",
   "metadata": {},
   "source": [
    "9. Write a NumPy program to find the number of elements of an array, length of one array element in bytes and total bytes consumed by the elements."
   ]
  },
  {
   "cell_type": "code",
   "execution_count": 73,
   "metadata": {},
   "outputs": [
    {
     "data": {
      "text/plain": [
       "(16, 4, 64)"
      ]
     },
     "execution_count": 73,
     "metadata": {},
     "output_type": "execute_result"
    }
   ],
   "source": [
    "a.size,a.itemsize,a.nbytes"
   ]
  },
  {
   "cell_type": "markdown",
   "metadata": {},
   "source": [
    "10. Write a NumPy program to test whether each element of a 1-D array is also present in a second array"
   ]
  },
  {
   "cell_type": "code",
   "execution_count": 81,
   "metadata": {},
   "outputs": [
    {
     "name": "stdout",
     "output_type": "stream",
     "text": [
      "yes\n",
      "yes\n",
      "yes\n",
      "yes\n",
      "yes\n"
     ]
    }
   ],
   "source": [
    " for i in b:\n",
    "    if i in a:\n",
    "        print('yes')\n",
    "    else:\n",
    "        print('no')"
   ]
  },
  {
   "cell_type": "markdown",
   "metadata": {},
   "source": [
    "11. Write a NumPy program to create an array of ones and an array of zeros."
   ]
  },
  {
   "cell_type": "code",
   "execution_count": 82,
   "metadata": {},
   "outputs": [
    {
     "data": {
      "text/plain": [
       "(array([1., 1., 1., 1., 1., 1., 1., 1., 1., 1.]), array([0., 0., 0., 0., 0.]))"
      ]
     },
     "execution_count": 82,
     "metadata": {},
     "output_type": "execute_result"
    }
   ],
   "source": [
    "np.ones(10),np.zeros(5)"
   ]
  },
  {
   "cell_type": "markdown",
   "metadata": {},
   "source": [
    "12. Write a NumPy program to create a new shape to an array without changing its data"
   ]
  },
  {
   "cell_type": "code",
   "execution_count": 85,
   "metadata": {},
   "outputs": [
    {
     "name": "stdout",
     "output_type": "stream",
     "text": [
      "[[ 0  1  2  3]\n",
      " [ 4  5  6  7]\n",
      " [ 8  9 10 11]\n",
      " [12 13 14 15]]\n",
      "[[[[ 0  1]\n",
      "   [ 2  3]]\n",
      "\n",
      "  [[ 4  5]\n",
      "   [ 6  7]]]\n",
      "\n",
      "\n",
      " [[[ 8  9]\n",
      "   [10 11]]\n",
      "\n",
      "  [[12 13]\n",
      "   [14 15]]]]\n"
     ]
    }
   ],
   "source": [
    "print(a)\n",
    "a=a.reshape(2,2,2,2)\n",
    "print(a)"
   ]
  },
  {
   "cell_type": "markdown",
   "metadata": {},
   "source": [
    "13. Write a NumPy program to change the data type of an array."
   ]
  },
  {
   "cell_type": "code",
   "execution_count": 91,
   "metadata": {},
   "outputs": [
    {
     "name": "stdout",
     "output_type": "stream",
     "text": [
      "int32\n",
      "float64\n"
     ]
    }
   ],
   "source": [
    "print(a.dtype)\n",
    "a=a.astype('float64')\n",
    "print(a.dtype)"
   ]
  },
  {
   "cell_type": "markdown",
   "metadata": {},
   "source": [
    "14. Write a NumPy program to create a new array of 3*5, filled with 2."
   ]
  },
  {
   "cell_type": "code",
   "execution_count": 93,
   "metadata": {},
   "outputs": [
    {
     "name": "stdout",
     "output_type": "stream",
     "text": [
      "[[1. 1. 1. 1. 1.]\n",
      " [1. 1. 1. 1. 1.]\n",
      " [1. 1. 1. 1. 1.]]\n"
     ]
    }
   ],
   "source": [
    "b=np.ones(15).reshape(3,5)\n",
    "print(b*1)"
   ]
  },
  {
   "cell_type": "markdown",
   "metadata": {},
   "source": [
    "15. Write a NumPy program to create a 3-D array with ones on a diagonal and zeros elsewhere"
   ]
  },
  {
   "cell_type": "code",
   "execution_count": 99,
   "metadata": {},
   "outputs": [
    {
     "data": {
      "text/plain": [
       "array([[[1., 0., 0., 0.],\n",
       "        [0., 1., 0., 0.],\n",
       "        [0., 0., 1., 0.],\n",
       "        [0., 0., 0., 1.]],\n",
       "\n",
       "       [[1., 0., 0., 0.],\n",
       "        [0., 1., 0., 0.],\n",
       "        [0., 0., 1., 0.],\n",
       "        [0., 0., 0., 1.]],\n",
       "\n",
       "       [[1., 0., 0., 0.],\n",
       "        [0., 1., 0., 0.],\n",
       "        [0., 0., 1., 0.],\n",
       "        [0., 0., 0., 1.]]])"
      ]
     },
     "execution_count": 99,
     "metadata": {},
     "output_type": "execute_result"
    }
   ],
   "source": [
    "c=np.eye(4)\n",
    "c=np.array((c,c,c))\n",
    "c"
   ]
  },
  {
   "cell_type": "code",
   "execution_count": null,
   "metadata": {},
   "outputs": [],
   "source": []
  }
 ],
 "metadata": {
  "kernelspec": {
   "display_name": "Python 3",
   "language": "python",
   "name": "python3"
  },
  "language_info": {
   "codemirror_mode": {
    "name": "ipython",
    "version": 3
   },
   "file_extension": ".py",
   "mimetype": "text/x-python",
   "name": "python",
   "nbconvert_exporter": "python",
   "pygments_lexer": "ipython3",
   "version": "3.8.5"
  }
 },
 "nbformat": 4,
 "nbformat_minor": 4
}
