{
 "cells": [
  {
   "cell_type": "raw",
   "metadata": {},
   "source": [
    "1. Given are 2 similar dimensional numpy arrays, how to get a numpy array output\n",
    "in which every element is an element-wise sum of the 2 numpy arrays?"
   ]
  },
  {
   "cell_type": "code",
   "execution_count": 4,
   "metadata": {},
   "outputs": [
    {
     "name": "stdout",
     "output_type": "stream",
     "text": [
      "[7 9 8 8]\n"
     ]
    }
   ],
   "source": [
    "import numpy as np\n",
    "a=np.array([1,2,3,4])\n",
    "b=np.array([6,7,5,4])\n",
    "print(a+b)"
   ]
  },
  {
   "cell_type": "raw",
   "metadata": {},
   "source": [
    "2. Given a numpy array (matrix), how to get a numpy array output which is equal to\n",
    "the original matrix multiplied by a scalar?"
   ]
  },
  {
   "cell_type": "code",
   "execution_count": 5,
   "metadata": {},
   "outputs": [
    {
     "data": {
      "text/plain": [
       "array([[ 4,  8, 12],\n",
       "       [16, 20, 24],\n",
       "       [32, 36, 28]])"
      ]
     },
     "execution_count": 5,
     "metadata": {},
     "output_type": "execute_result"
    }
   ],
   "source": [
    "m=np.array([[1,2,3],[4,5,6],[8,9,7]])\n",
    "4*m"
   ]
  },
  {
   "cell_type": "raw",
   "metadata": {},
   "source": [
    "3. Create an identity matrix of dimension 4-by-4."
   ]
  },
  {
   "cell_type": "code",
   "execution_count": 6,
   "metadata": {},
   "outputs": [
    {
     "data": {
      "text/plain": [
       "array([[1., 0., 0., 0.],\n",
       "       [0., 1., 0., 0.],\n",
       "       [0., 0., 1., 0.],\n",
       "       [0., 0., 0., 1.]])"
      ]
     },
     "execution_count": 6,
     "metadata": {},
     "output_type": "execute_result"
    }
   ],
   "source": [
    "np.eye(4)"
   ]
  },
  {
   "cell_type": "raw",
   "metadata": {},
   "source": [
    "4. Convert a 1-D array to a 3-D array"
   ]
  },
  {
   "cell_type": "code",
   "execution_count": 7,
   "metadata": {},
   "outputs": [
    {
     "data": {
      "text/plain": [
       "array([[[1, 2],\n",
       "        [3, 4]],\n",
       "\n",
       "       [[5, 6],\n",
       "        [7, 8]]])"
      ]
     },
     "execution_count": 7,
     "metadata": {},
     "output_type": "execute_result"
    }
   ],
   "source": [
    "np.array([1,2,3,4,5,6,7,8]).reshape(2,2,2)"
   ]
  },
  {
   "cell_type": "raw",
   "metadata": {},
   "source": [
    "5. Convert a binary numpy array (containing only 0s and 1s) to a boolean numpy\n",
    "array"
   ]
  },
  {
   "cell_type": "code",
   "execution_count": 16,
   "metadata": {},
   "outputs": [
    {
     "data": {
      "text/plain": [
       "array([[ True, False,  True, False],\n",
       "       [False,  True,  True, False]])"
      ]
     },
     "execution_count": 16,
     "metadata": {},
     "output_type": "execute_result"
    }
   ],
   "source": [
    "a=np.array([[1,0,1,0],[0,1,1,0]],dtype='bool')\n",
    "a"
   ]
  },
  {
   "cell_type": "raw",
   "metadata": {},
   "source": [
    "6. Convert all the elements of a numpy array from float to integer datatype"
   ]
  },
  {
   "cell_type": "code",
   "execution_count": 29,
   "metadata": {},
   "outputs": [
    {
     "name": "stdout",
     "output_type": "stream",
     "text": [
      "float64\n",
      "int32\n"
     ]
    }
   ],
   "source": [
    "a=np.array([[1,0,5,0],[79,1,1,0]],dtype='float')\n",
    "print(a.dtype)\n",
    "a=a.astype('int32')\n",
    "print(a.dtype)"
   ]
  },
  {
   "cell_type": "raw",
   "metadata": {},
   "source": [
    "7. Stack 2 numpy arrays horizontally i.e., 2 arrays having the same 1st dimension\n",
    "(number of rows in 2D arrays)\n"
   ]
  },
  {
   "cell_type": "code",
   "execution_count": 30,
   "metadata": {},
   "outputs": [
    {
     "data": {
      "text/plain": [
       "array([[1, 2, 3, 4],\n",
       "       [5, 6, 7, 8]])"
      ]
     },
     "execution_count": 30,
     "metadata": {},
     "output_type": "execute_result"
    }
   ],
   "source": [
    "a=np.array([1,2,3,4])\n",
    "b=np.array([5,6,7,8])\n",
    "np.array((a,b))"
   ]
  },
  {
   "cell_type": "raw",
   "metadata": {},
   "source": [
    "8. Output a sequence of equally gapped 5 numbers in the range 0 to 100 (both\n",
    "inclusive)"
   ]
  },
  {
   "cell_type": "code",
   "execution_count": 31,
   "metadata": {},
   "outputs": [
    {
     "data": {
      "text/plain": [
       "array([  0,   5,  10,  15,  20,  25,  30,  35,  40,  45,  50,  55,  60,\n",
       "        65,  70,  75,  80,  85,  90,  95, 100])"
      ]
     },
     "execution_count": 31,
     "metadata": {},
     "output_type": "execute_result"
    }
   ],
   "source": [
    "np.arange(0,101,5)"
   ]
  },
  {
   "cell_type": "raw",
   "metadata": {},
   "source": [
    "9. Output a matrix (numpy array) of dimension 2-by-3 with each and every value\n",
    "equal to 5\n"
   ]
  },
  {
   "cell_type": "code",
   "execution_count": 35,
   "metadata": {},
   "outputs": [
    {
     "data": {
      "text/plain": [
       "array([[5, 5, 5],\n",
       "       [5, 5, 5]])"
      ]
     },
     "execution_count": 35,
     "metadata": {},
     "output_type": "execute_result"
    }
   ],
   "source": [
    "a=5*np.ones(3,dtype='int32')\n",
    "np.array((a,a))"
   ]
  },
  {
   "cell_type": "raw",
   "metadata": {},
   "source": [
    "10.Given 2 numpy arrays as matrices, output the result of multiplying the 2 matrices\n",
    "(as a numpy array)"
   ]
  },
  {
   "cell_type": "code",
   "execution_count": 48,
   "metadata": {},
   "outputs": [
    {
     "name": "stdout",
     "output_type": "stream",
     "text": [
      "[[1 2 3]\n",
      " [4 5 6]\n",
      " [7 8 9]]\n"
     ]
    },
    {
     "data": {
      "text/plain": [
       "array([[ 1,  4,  9],\n",
       "       [16, 25, 36],\n",
       "       [49, 64, 81]])"
      ]
     },
     "execution_count": 48,
     "metadata": {},
     "output_type": "execute_result"
    }
   ],
   "source": [
    "a=np.array([1,2,3,4,5,6,7,8,9]).reshape(3,3)\n",
    "print(a)\n",
    "a*a"
   ]
  },
  {
   "cell_type": "raw",
   "metadata": {},
   "source": [
    "11. Output the array element indexes such that the array elements appear in the\n",
    "ascending order"
   ]
  },
  {
   "cell_type": "code",
   "execution_count": 46,
   "metadata": {},
   "outputs": [
    {
     "name": "stdout",
     "output_type": "stream",
     "text": [
      "[4 6 1 8 3 9]\n"
     ]
    },
    {
     "data": {
      "text/plain": [
       "array([1, 3, 4, 6, 8, 9])"
      ]
     },
     "execution_count": 46,
     "metadata": {},
     "output_type": "execute_result"
    }
   ],
   "source": [
    "a=np.array([4,6,1,8,3,9],dtype='int32')\n",
    "print(a)\n",
    "a.sort()\n",
    "a"
   ]
  },
  {
   "cell_type": "raw",
   "metadata": {},
   "source": [
    "12.Multiply a 5x3 matrix by a 3x2 matrix (real matrix product)"
   ]
  },
  {
   "cell_type": "code",
   "execution_count": 51,
   "metadata": {},
   "outputs": [
    {
     "name": "stdout",
     "output_type": "stream",
     "text": [
      "[[ 1  2  3]\n",
      " [ 4  5  6]\n",
      " [ 7  8  9]\n",
      " [10  3  4]\n",
      " [ 5  8  5]]\n",
      "\n",
      "[[1 2]\n",
      " [3 4]\n",
      " [5 6]]\n"
     ]
    },
    {
     "data": {
      "text/plain": [
       "array([[ 22,  28],\n",
       "       [ 49,  64],\n",
       "       [ 76, 100],\n",
       "       [ 39,  56],\n",
       "       [ 54,  72]])"
      ]
     },
     "execution_count": 51,
     "metadata": {},
     "output_type": "execute_result"
    }
   ],
   "source": [
    "a=np.array([1,2,3,4,5,6,7,8,9,10,3,4,5,8,5],dtype='int32').reshape(5,3)\n",
    "b=np.array([1,2,3,4,5,6],dtype='int32').reshape(3,2)\n",
    "print(a)\n",
    "print()\n",
    "print(b)\n",
    "np.dot(a,b)"
   ]
  },
  {
   "cell_type": "code",
   "execution_count": null,
   "metadata": {},
   "outputs": [],
   "source": []
  }
 ],
 "metadata": {
  "kernelspec": {
   "display_name": "Python 3",
   "language": "python",
   "name": "python3"
  },
  "language_info": {
   "codemirror_mode": {
    "name": "ipython",
    "version": 3
   },
   "file_extension": ".py",
   "mimetype": "text/x-python",
   "name": "python",
   "nbconvert_exporter": "python",
   "pygments_lexer": "ipython3",
   "version": "3.8.5"
  }
 },
 "nbformat": 4,
 "nbformat_minor": 4
}
